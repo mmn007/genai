{
 "cells": [
  {
   "cell_type": "code",
   "execution_count": 86,
   "metadata": {},
   "outputs": [],
   "source": [
    "import numpy as np\n",
    "import tensorflow as tf\n",
    "from tensorflow.keras.datasets import imdb\n",
    "from tensorflow.keras.preprocessing import sequence\n",
    "from tensorflow.keras.models import load_model"
   ]
  },
  {
   "cell_type": "code",
   "execution_count": 87,
   "metadata": {},
   "outputs": [
    {
     "name": "stderr",
     "output_type": "stream",
     "text": [
      "WARNING:absl:Compiled the loaded model, but the compiled metrics have yet to be built. `model.compile_metrics` will be empty until you train or evaluate the model.\n"
     ]
    }
   ],
   "source": [
    "model = load_model('imdb_rnn.h5')\n",
    "word_index = imdb.get_word_index()\n",
    "reverse_word_index = {v:k for k,v in imdb.get_word_index().items()}"
   ]
  },
  {
   "cell_type": "code",
   "execution_count": 88,
   "metadata": {},
   "outputs": [
    {
     "data": {
      "text/html": [
       "<pre style=\"white-space:pre;overflow-x:auto;line-height:normal;font-family:Menlo,'DejaVu Sans Mono',consolas,'Courier New',monospace\"><span style=\"font-weight: bold\">Model: \"sequential_1\"</span>\n",
       "</pre>\n"
      ],
      "text/plain": [
       "\u001b[1mModel: \"sequential_1\"\u001b[0m\n"
      ]
     },
     "metadata": {},
     "output_type": "display_data"
    },
    {
     "data": {
      "text/html": [
       "<pre style=\"white-space:pre;overflow-x:auto;line-height:normal;font-family:Menlo,'DejaVu Sans Mono',consolas,'Courier New',monospace\">┏━━━━━━━━━━━━━━━━━━━━━━━━━━━━━━━━━┳━━━━━━━━━━━━━━━━━━━━━━━━┳━━━━━━━━━━━━━━━┓\n",
       "┃<span style=\"font-weight: bold\"> Layer (type)                    </span>┃<span style=\"font-weight: bold\"> Output Shape           </span>┃<span style=\"font-weight: bold\">       Param # </span>┃\n",
       "┡━━━━━━━━━━━━━━━━━━━━━━━━━━━━━━━━━╇━━━━━━━━━━━━━━━━━━━━━━━━╇━━━━━━━━━━━━━━━┩\n",
       "│ embedding_1 (<span style=\"color: #0087ff; text-decoration-color: #0087ff\">Embedding</span>)         │ (<span style=\"color: #00af00; text-decoration-color: #00af00\">32</span>, <span style=\"color: #00af00; text-decoration-color: #00af00\">500</span>, <span style=\"color: #00af00; text-decoration-color: #00af00\">128</span>)         │    <span style=\"color: #00af00; text-decoration-color: #00af00\">12,800,000</span> │\n",
       "├─────────────────────────────────┼────────────────────────┼───────────────┤\n",
       "│ simple_rnn_1 (<span style=\"color: #0087ff; text-decoration-color: #0087ff\">SimpleRNN</span>)        │ (<span style=\"color: #00af00; text-decoration-color: #00af00\">32</span>, <span style=\"color: #00af00; text-decoration-color: #00af00\">128</span>)              │        <span style=\"color: #00af00; text-decoration-color: #00af00\">32,896</span> │\n",
       "├─────────────────────────────────┼────────────────────────┼───────────────┤\n",
       "│ dense_1 (<span style=\"color: #0087ff; text-decoration-color: #0087ff\">Dense</span>)                 │ (<span style=\"color: #00af00; text-decoration-color: #00af00\">32</span>, <span style=\"color: #00af00; text-decoration-color: #00af00\">1</span>)                │           <span style=\"color: #00af00; text-decoration-color: #00af00\">129</span> │\n",
       "└─────────────────────────────────┴────────────────────────┴───────────────┘\n",
       "</pre>\n"
      ],
      "text/plain": [
       "┏━━━━━━━━━━━━━━━━━━━━━━━━━━━━━━━━━┳━━━━━━━━━━━━━━━━━━━━━━━━┳━━━━━━━━━━━━━━━┓\n",
       "┃\u001b[1m \u001b[0m\u001b[1mLayer (type)                   \u001b[0m\u001b[1m \u001b[0m┃\u001b[1m \u001b[0m\u001b[1mOutput Shape          \u001b[0m\u001b[1m \u001b[0m┃\u001b[1m \u001b[0m\u001b[1m      Param #\u001b[0m\u001b[1m \u001b[0m┃\n",
       "┡━━━━━━━━━━━━━━━━━━━━━━━━━━━━━━━━━╇━━━━━━━━━━━━━━━━━━━━━━━━╇━━━━━━━━━━━━━━━┩\n",
       "│ embedding_1 (\u001b[38;5;33mEmbedding\u001b[0m)         │ (\u001b[38;5;34m32\u001b[0m, \u001b[38;5;34m500\u001b[0m, \u001b[38;5;34m128\u001b[0m)         │    \u001b[38;5;34m12,800,000\u001b[0m │\n",
       "├─────────────────────────────────┼────────────────────────┼───────────────┤\n",
       "│ simple_rnn_1 (\u001b[38;5;33mSimpleRNN\u001b[0m)        │ (\u001b[38;5;34m32\u001b[0m, \u001b[38;5;34m128\u001b[0m)              │        \u001b[38;5;34m32,896\u001b[0m │\n",
       "├─────────────────────────────────┼────────────────────────┼───────────────┤\n",
       "│ dense_1 (\u001b[38;5;33mDense\u001b[0m)                 │ (\u001b[38;5;34m32\u001b[0m, \u001b[38;5;34m1\u001b[0m)                │           \u001b[38;5;34m129\u001b[0m │\n",
       "└─────────────────────────────────┴────────────────────────┴───────────────┘\n"
      ]
     },
     "metadata": {},
     "output_type": "display_data"
    },
    {
     "data": {
      "text/html": [
       "<pre style=\"white-space:pre;overflow-x:auto;line-height:normal;font-family:Menlo,'DejaVu Sans Mono',consolas,'Courier New',monospace\"><span style=\"font-weight: bold\"> Total params: </span><span style=\"color: #00af00; text-decoration-color: #00af00\">12,833,027</span> (48.95 MB)\n",
       "</pre>\n"
      ],
      "text/plain": [
       "\u001b[1m Total params: \u001b[0m\u001b[38;5;34m12,833,027\u001b[0m (48.95 MB)\n"
      ]
     },
     "metadata": {},
     "output_type": "display_data"
    },
    {
     "data": {
      "text/html": [
       "<pre style=\"white-space:pre;overflow-x:auto;line-height:normal;font-family:Menlo,'DejaVu Sans Mono',consolas,'Courier New',monospace\"><span style=\"font-weight: bold\"> Trainable params: </span><span style=\"color: #00af00; text-decoration-color: #00af00\">12,833,025</span> (48.95 MB)\n",
       "</pre>\n"
      ],
      "text/plain": [
       "\u001b[1m Trainable params: \u001b[0m\u001b[38;5;34m12,833,025\u001b[0m (48.95 MB)\n"
      ]
     },
     "metadata": {},
     "output_type": "display_data"
    },
    {
     "data": {
      "text/html": [
       "<pre style=\"white-space:pre;overflow-x:auto;line-height:normal;font-family:Menlo,'DejaVu Sans Mono',consolas,'Courier New',monospace\"><span style=\"font-weight: bold\"> Non-trainable params: </span><span style=\"color: #00af00; text-decoration-color: #00af00\">0</span> (0.00 B)\n",
       "</pre>\n"
      ],
      "text/plain": [
       "\u001b[1m Non-trainable params: \u001b[0m\u001b[38;5;34m0\u001b[0m (0.00 B)\n"
      ]
     },
     "metadata": {},
     "output_type": "display_data"
    },
    {
     "data": {
      "text/html": [
       "<pre style=\"white-space:pre;overflow-x:auto;line-height:normal;font-family:Menlo,'DejaVu Sans Mono',consolas,'Courier New',monospace\"><span style=\"font-weight: bold\"> Optimizer params: </span><span style=\"color: #00af00; text-decoration-color: #00af00\">2</span> (12.00 B)\n",
       "</pre>\n"
      ],
      "text/plain": [
       "\u001b[1m Optimizer params: \u001b[0m\u001b[38;5;34m2\u001b[0m (12.00 B)\n"
      ]
     },
     "metadata": {},
     "output_type": "display_data"
    }
   ],
   "source": [
    "model.summary()"
   ]
  },
  {
   "cell_type": "code",
   "execution_count": 89,
   "metadata": {},
   "outputs": [
    {
     "data": {
      "text/plain": [
       "[array([[ 5.2893835e-01, -4.5694596e-01, -8.5518515e-01, ...,\n",
       "         -7.6943797e-01, -5.3834164e-01, -4.4890845e-01],\n",
       "        [-1.5560617e-02, -1.4739003e-04, -7.4033357e-02, ...,\n",
       "         -4.3534715e-02,  5.7754745e-03,  4.4636995e-02],\n",
       "        [-4.3134488e-02, -3.4404289e-02, -2.2152960e-02, ...,\n",
       "          3.9924514e-02, -2.4850145e-03,  4.1575503e-02],\n",
       "        ...,\n",
       "        [-4.2032551e-02, -5.1930435e-03, -2.8299941e-02, ...,\n",
       "          2.4252359e-02, -1.1213027e-02,  4.6610761e-02],\n",
       "        [ 1.1671558e-03,  8.9467689e-04,  4.7024820e-02, ...,\n",
       "         -4.3283250e-02,  2.1063749e-02,  1.3469588e-02],\n",
       "        [ 2.7723227e-02,  3.9272677e-02,  3.5427872e-02, ...,\n",
       "         -2.8234243e-02, -7.7973232e-03,  3.9503146e-02]], dtype=float32),\n",
       " array([[ 0.05879313, -0.14376809, -0.00169002, ...,  0.03492788,\n",
       "         -0.04686029,  0.10168315],\n",
       "        [-0.14689445, -0.17311577,  0.0082119 , ..., -0.12742618,\n",
       "          0.11102023, -0.10946496],\n",
       "        [ 0.10417637,  0.1295456 , -0.1417729 , ...,  0.05441696,\n",
       "         -0.04858918, -0.07978933],\n",
       "        ...,\n",
       "        [ 0.03813028, -0.13203982,  0.0701163 , ...,  0.14220989,\n",
       "         -0.08581922,  0.05695913],\n",
       "        [-0.02776918, -0.00995093, -0.04214697, ...,  0.10610817,\n",
       "          0.01120812,  0.00225397],\n",
       "        [-0.03855422, -0.06369558, -0.12212397, ..., -0.1294858 ,\n",
       "          0.00459221, -0.03506934]], dtype=float32),\n",
       " array([[-0.02523081, -0.1623929 ,  0.00255278, ...,  0.08208525,\n",
       "         -0.11238255, -0.05268768],\n",
       "        [ 0.02273758, -0.03924784,  0.03447549, ...,  0.01271035,\n",
       "         -0.05397336,  0.0059126 ],\n",
       "        [ 0.02738794,  0.04598435, -0.05218787, ..., -0.05260435,\n",
       "         -0.10145683,  0.00332342],\n",
       "        ...,\n",
       "        [ 0.03228803,  0.15551105, -0.01274946, ..., -0.09637057,\n",
       "         -0.14079437,  0.03879817],\n",
       "        [-0.04747724, -0.04852862, -0.11543301, ...,  0.12109884,\n",
       "         -0.15364718,  0.03706422],\n",
       "        [-0.09131759, -0.16250037,  0.00773369, ..., -0.07795747,\n",
       "         -0.03800359, -0.19339716]], dtype=float32),\n",
       " array([-0.0425569 , -0.01660091, -0.02708039, -0.0314493 , -0.02371042,\n",
       "         0.0379717 , -0.01546787, -0.01696535,  0.04195572, -0.02967924,\n",
       "        -0.03707359, -0.00248055, -0.03111229, -0.00365025,  0.00088013,\n",
       "         0.00339702, -0.01260461, -0.04903009,  0.03716744, -0.01047285,\n",
       "        -0.03762589,  0.04197505,  0.0104919 , -0.02148396, -0.00141495,\n",
       "        -0.03028582, -0.01584131,  0.03873519,  0.01193371, -0.0229066 ,\n",
       "         0.02022852,  0.01043613,  0.05274636,  0.02247533,  0.00082556,\n",
       "         0.03476241,  0.0175091 , -0.02305594,  0.01500616,  0.02881166,\n",
       "        -0.04440106, -0.00056321,  0.00974669, -0.02656778, -0.01269797,\n",
       "        -0.02515155, -0.00021814, -0.03237256, -0.02990963,  0.01297136,\n",
       "        -0.01688958, -0.04415312,  0.03004141, -0.0049833 , -0.01788153,\n",
       "         0.02221702, -0.02892339, -0.03461029,  0.00220868, -0.02993678,\n",
       "        -0.03572095, -0.01364041, -0.02166444, -0.01910604, -0.02102395,\n",
       "        -0.00697552, -0.03301797, -0.06086583, -0.03557343,  0.00686054,\n",
       "         0.03883702, -0.01213891, -0.00920861,  0.01449199, -0.01844295,\n",
       "        -0.02634246,  0.03757798,  0.01964666, -0.00285008, -0.02273063,\n",
       "        -0.01011437, -0.01892039,  0.03205135, -0.02271068,  0.01098863,\n",
       "         0.02378959, -0.02726922,  0.00978372,  0.01244321,  0.02872355,\n",
       "        -0.01103354,  0.00038247, -0.03955593, -0.00594609,  0.02167419,\n",
       "        -0.03352839, -0.01784279,  0.02158183,  0.00139234,  0.03195626,\n",
       "         0.01708413,  0.00831807, -0.04510706,  0.04522981,  0.04145686,\n",
       "        -0.00657145, -0.00455415,  0.0089176 ,  0.00112522, -0.04108823,\n",
       "        -0.00703034, -0.02963203,  0.01916168, -0.02798959, -0.04166716,\n",
       "         0.03872623,  0.00459928, -0.02100505, -0.03362017, -0.04187646,\n",
       "         0.04479956,  0.02971582, -0.02855993, -0.02596878,  0.0200787 ,\n",
       "        -0.0462612 , -0.05032728,  0.01133209], dtype=float32),\n",
       " array([[-0.07961239],\n",
       "        [ 0.20171931],\n",
       "        [-0.20137137],\n",
       "        [-0.10042587],\n",
       "        [-0.21055456],\n",
       "        [ 0.17747004],\n",
       "        [ 0.11580874],\n",
       "        [-0.6514058 ],\n",
       "        [-0.2682699 ],\n",
       "        [ 0.11532694],\n",
       "        [-0.04381762],\n",
       "        [-0.03562924],\n",
       "        [-0.10313489],\n",
       "        [-0.07677031],\n",
       "        [-0.5768728 ],\n",
       "        [ 0.10185252],\n",
       "        [ 0.1892845 ],\n",
       "        [ 0.14703487],\n",
       "        [ 0.09489161],\n",
       "        [ 0.05620237],\n",
       "        [-0.00098857],\n",
       "        [ 0.1015892 ],\n",
       "        [-0.12247904],\n",
       "        [-0.07191163],\n",
       "        [ 0.0341845 ],\n",
       "        [ 0.09119212],\n",
       "        [-0.26899582],\n",
       "        [ 0.1345025 ],\n",
       "        [ 0.10160884],\n",
       "        [ 0.06069323],\n",
       "        [ 0.16788608],\n",
       "        [-0.01946421],\n",
       "        [-0.03618042],\n",
       "        [-0.19844255],\n",
       "        [-0.08464886],\n",
       "        [ 0.08330084],\n",
       "        [-0.1643972 ],\n",
       "        [-0.11978019],\n",
       "        [-0.2678297 ],\n",
       "        [ 0.22659169],\n",
       "        [-0.1764132 ],\n",
       "        [-0.24852732],\n",
       "        [ 0.18301457],\n",
       "        [-0.06479526],\n",
       "        [-0.0031331 ],\n",
       "        [ 0.04990961],\n",
       "        [ 0.00828787],\n",
       "        [-0.09266185],\n",
       "        [-0.05712771],\n",
       "        [-0.12417903],\n",
       "        [-0.16206984],\n",
       "        [-0.05004492],\n",
       "        [ 0.02142591],\n",
       "        [-0.18699643],\n",
       "        [-0.20989764],\n",
       "        [-0.11034766],\n",
       "        [ 0.01798896],\n",
       "        [ 0.0870349 ],\n",
       "        [ 0.01799688],\n",
       "        [-0.07582054],\n",
       "        [-0.1773322 ],\n",
       "        [ 0.30100366],\n",
       "        [ 0.1446337 ],\n",
       "        [-0.12680253],\n",
       "        [-0.05908238],\n",
       "        [-0.09195974],\n",
       "        [-0.17111912],\n",
       "        [ 0.06488805],\n",
       "        [ 0.00673406],\n",
       "        [ 0.16644701],\n",
       "        [ 0.00280448],\n",
       "        [-0.03630456],\n",
       "        [ 0.11609061],\n",
       "        [ 0.0130968 ],\n",
       "        [-0.02621961],\n",
       "        [ 0.01738881],\n",
       "        [ 0.0664392 ],\n",
       "        [ 0.14581938],\n",
       "        [-0.01115981],\n",
       "        [-0.05290863],\n",
       "        [-0.19250973],\n",
       "        [-0.17976956],\n",
       "        [ 0.17140032],\n",
       "        [ 0.11209159],\n",
       "        [ 0.07555605],\n",
       "        [ 0.16120462],\n",
       "        [-0.12387273],\n",
       "        [-0.03094326],\n",
       "        [ 0.12767598],\n",
       "        [-0.11418994],\n",
       "        [-0.06538297],\n",
       "        [ 0.20307921],\n",
       "        [-0.15658945],\n",
       "        [-0.2106612 ],\n",
       "        [ 0.0564594 ],\n",
       "        [ 0.12681016],\n",
       "        [-0.1196702 ],\n",
       "        [ 0.1544965 ],\n",
       "        [ 0.12424295],\n",
       "        [ 0.17337729],\n",
       "        [-0.10703199],\n",
       "        [ 0.14718424],\n",
       "        [-0.01831661],\n",
       "        [ 0.11411083],\n",
       "        [ 0.16182326],\n",
       "        [-0.08330437],\n",
       "        [-0.5183008 ],\n",
       "        [-0.19127105],\n",
       "        [-0.09151243],\n",
       "        [-0.17040512],\n",
       "        [-0.5544063 ],\n",
       "        [-0.12895463],\n",
       "        [ 0.09798918],\n",
       "        [ 0.07369507],\n",
       "        [-0.13059631],\n",
       "        [ 0.22095567],\n",
       "        [ 0.21030094],\n",
       "        [ 0.00813122],\n",
       "        [-0.21317613],\n",
       "        [-0.06435045],\n",
       "        [-0.25551277],\n",
       "        [-0.00417276],\n",
       "        [-0.16295192],\n",
       "        [ 0.03599241],\n",
       "        [-0.00245175],\n",
       "        [ 0.09208576],\n",
       "        [ 0.11621319],\n",
       "        [ 0.13137086]], dtype=float32),\n",
       " array([-0.5679679], dtype=float32)]"
      ]
     },
     "execution_count": 89,
     "metadata": {},
     "output_type": "execute_result"
    }
   ],
   "source": [
    "model.get_weights()"
   ]
  },
  {
   "cell_type": "code",
   "execution_count": 90,
   "metadata": {},
   "outputs": [],
   "source": [
    "def preprocess(text):\n",
    "    words = text.lower().split()\n",
    "    encoded_review = [word_index.get(w, 2) + 3 for w in words]\n",
    "    padded_review = sequence.pad_sequences([encoded_review], maxlen=500)\n",
    "    return padded_review"
   ]
  },
  {
   "cell_type": "code",
   "execution_count": 91,
   "metadata": {},
   "outputs": [],
   "source": [
    "def decode(arr):\n",
    "    return ' '.join([reverse_word_index.get(i-3, '?') for i in arr])"
   ]
  },
  {
   "cell_type": "code",
   "execution_count": 92,
   "metadata": {},
   "outputs": [],
   "source": [
    "def predict(review):\n",
    "    pr = preprocess(review)\n",
    "    print(pr)\n",
    "    res = model.predict([pr])\n",
    "    return 'Positive' if res > 0.5 else 'Negative', res\n"
   ]
  },
  {
   "cell_type": "code",
   "execution_count": 94,
   "metadata": {},
   "outputs": [
    {
     "name": "stdout",
     "output_type": "stream",
     "text": [
      "[[ 0  0  0  0  0  0  0  0  0  0  0  0  0  0  0  0  0  0  0  0  0  0  0  0\n",
      "   0  0  0  0  0  0  0  0  0  0  0  0  0  0  0  0  0  0  0  0  0  0  0  0\n",
      "   0  0  0  0  0  0  0  0  0  0  0  0  0  0  0  0  0  0  0  0  0  0  0  0\n",
      "   0  0  0  0  0  0  0  0  0  0  0  0  0  0  0  0  0  0  0  0  0  0  0  0\n",
      "   0  0  0  0  0  0  0  0  0  0  0  0  0  0  0  0  0  0  0  0  0  0  0  0\n",
      "   0  0  0  0  0  0  0  0  0  0  0  0  0  0  0  0  0  0  0  0  0  0  0  0\n",
      "   0  0  0  0  0  0  0  0  0  0  0  0  0  0  0  0  0  0  0  0  0  0  0  0\n",
      "   0  0  0  0  0  0  0  0  0  0  0  0  0  0  0  0  0  0  0  0  0  0  0  0\n",
      "   0  0  0  0  0  0  0  0  0  0  0  0  0  0  0  0  0  0  0  0  0  0  0  0\n",
      "   0  0  0  0  0  0  0  0  0  0  0  0  0  0  0  0  0  0  0  0  0  0  0  0\n",
      "   0  0  0  0  0  0  0  0  0  0  0  0  0  0  0  0  0  0  0  0  0  0  0  0\n",
      "   0  0  0  0  0  0  0  0  0  0  0  0  0  0  0  0  0  0  0  0  0  0  0  0\n",
      "   0  0  0  0  0  0  0  0  0  0  0  0  0  0  0  0  0  0  0  0  0  0  0  0\n",
      "   0  0  0  0  0  0  0  0  0  0  0  0  0  0  0  0  0  0  0  0  0  0  0  0\n",
      "   0  0  0  0  0  0  0  0  0  0  0  0  0  0  0  0  0  0  0  0  0  0  0  0\n",
      "   0  0  0  0  0  0  0  0  0  0  0  0  0  0  0  0  0  0  0  0  0  0  0  0\n",
      "   0  0  0  0  0  0  0  0  0  0  0  0  0  0  0  0  0  0  0  0  0  0  0  0\n",
      "   0  0  0  0  0  0  0  0  0  0  0  0  0  0  0  0  0  0  0  0  0  0  0  0\n",
      "   0  0  0  0  0  0  0  0  0  0  0  0  0  0  0  0  0  0  0  0  0  0  0  0\n",
      "   0  0  0  0  0  0  0  0  0  0  0  0  0  0  0  0  0  0  0  0  0  0  0  0\n",
      "   0  0  0  0  0  0  0  0  0  0  0  0  0  0 20  9 24 52 33 32]]\n",
      "\u001b[1m1/1\u001b[0m \u001b[32m━━━━━━━━━━━━━━━━━━━━\u001b[0m\u001b[37m\u001b[0m \u001b[1m0s\u001b[0m 13ms/step\n"
     ]
    },
    {
     "data": {
      "text/plain": [
       "('Negative', array([[0.47139096]], dtype=float32))"
      ]
     },
     "execution_count": 94,
     "metadata": {},
     "output_type": "execute_result"
    }
   ],
   "source": [
    "r = 'The movie was fantastic! The acting was great and the plot was thrilling'\n",
    "r1 = 'The comedy is below par, the set-pieces distinctly unmemorable and the plot holes are gaping.'\n",
    "r3 = 'Movie is not good at all'\n",
    "p = predict(r3)\n",
    "p"
   ]
  }
 ],
 "metadata": {
  "kernelspec": {
   "display_name": "venv",
   "language": "python",
   "name": "python3"
  },
  "language_info": {
   "codemirror_mode": {
    "name": "ipython",
    "version": 3
   },
   "file_extension": ".py",
   "mimetype": "text/x-python",
   "name": "python",
   "nbconvert_exporter": "python",
   "pygments_lexer": "ipython3",
   "version": "3.11.6"
  }
 },
 "nbformat": 4,
 "nbformat_minor": 2
}
