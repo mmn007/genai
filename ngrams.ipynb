{
 "cells": [
  {
   "cell_type": "markdown",
   "metadata": {},
   "source": [
    "### N-Grams"
   ]
  },
  {
   "cell_type": "code",
   "execution_count": null,
   "metadata": {},
   "outputs": [],
   "source": [
    "import pandas as pd\n",
    "messages=pd.read_csv('datasets/spam.csv',\n",
    "                    names=[\"v1\",\"v2\",'v3','v4','v5'], encoding='ISO-8859-1', header=0)\n",
    "messages = messages.drop(['v3','v4','v5'], axis=1)\n",
    "messages = messages.rename({'v1':'label', 'v2':'message'}, axis=1)\n",
    "messages.shape\n",
    "messages"
   ]
  },
  {
   "cell_type": "code",
   "execution_count": null,
   "metadata": {},
   "outputs": [],
   "source": [
    "import nltk\n",
    "nltk.download('all')\n"
   ]
  },
  {
   "cell_type": "code",
   "execution_count": null,
   "metadata": {},
   "outputs": [],
   "source": [
    "from nltk.corpus import stopwords\n",
    "from nltk.stem.porter import PorterStemmer\n",
    "from nltk.stem import WordNetLemmatizer\n",
    "ps = PorterStemmer()\n",
    "wnl = WordNetLemmatizer()\n",
    "import re"
   ]
  },
  {
   "cell_type": "code",
   "execution_count": null,
   "metadata": {},
   "outputs": [],
   "source": [
    "corpus = []\n",
    "review = pd.DataFrame()\n",
    "rmap = {s:'' for s in stopwords.words('english')}\n",
    "review['message'] = messages['message'].str.replace(r'[^a-zA-Z]', ' ', regex=True).str.lower().str.split()\n",
    "print(review.head())\n",
    "review['message'] = review['message'].apply(func=lambda arr: [wnl.lemmatize(x) for x in arr if x not in stopwords.words('english')]).apply(func=lambda arr: ' '.join(arr))\n",
    "corpus = review['message'].to_list()\n",
    "corpus"
   ]
  },
  {
   "cell_type": "code",
   "execution_count": null,
   "metadata": {},
   "outputs": [],
   "source": [
    "from sklearn.feature_extraction.text import CountVectorizer\n",
    "cv = CountVectorizer(max_features=500, binary=True, ngram_range=(1,3))\n",
    "X=cv.fit_transform(corpus).toarray()\n",
    "X.shape\n",
    "X"
   ]
  },
  {
   "cell_type": "code",
   "execution_count": null,
   "metadata": {},
   "outputs": [],
   "source": [
    "cv.vocabulary_"
   ]
  }
 ],
 "metadata": {
  "kernelspec": {
   "display_name": "venv",
   "language": "python",
   "name": "python3"
  },
  "language_info": {
   "codemirror_mode": {
    "name": "ipython",
    "version": 3
   },
   "file_extension": ".py",
   "mimetype": "text/x-python",
   "name": "python",
   "nbconvert_exporter": "python",
   "pygments_lexer": "ipython3",
   "version": "3.10.9"
  }
 },
 "nbformat": 4,
 "nbformat_minor": 2
}
