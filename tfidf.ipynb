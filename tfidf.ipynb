{
 "cells": [
  {
   "cell_type": "markdown",
   "metadata": {},
   "source": [
    "## TF-IDF\n",
    "\n",
    "TF(Term Frequency) = (No of repetitive words in a sentence)/(no of words in the sentence)\n",
    "\n",
    "IDF (Inverse Document frequency) = ln((no of sentences)/(no of sentences containing the word))\n",
    "\n",
    "TFIDF = TF * IDF\n",
    "\n",
    "If a word is present in all paragraphs, it is lower preference. So word importance gets captured\n",
    "\n",
    "Out of vocabulary is still a problem. \n",
    "\n"
   ]
  },
  {
   "cell_type": "code",
   "execution_count": null,
   "metadata": {},
   "outputs": [],
   "source": [
    "import pandas as pd\n",
    "messages=pd.read_csv('datasets/spam.csv',\n",
    "                    names=[\"v1\",\"v2\",'v3','v4','v5'], encoding='ISO-8859-1', header=0)\n",
    "messages = messages.drop(['v3','v4','v5'], axis=1)\n",
    "messages = messages.rename({'v1':'label', 'v2':'message'}, axis=1)\n",
    "messages.shape\n",
    "messages\n",
    "import nltk\n",
    "nltk.download('all')\n",
    "from nltk.corpus import stopwords\n",
    "from nltk.stem.porter import PorterStemmer\n",
    "from nltk.stem import WordNetLemmatizer\n",
    "ps = PorterStemmer()\n",
    "wnl = WordNetLemmatizer()\n",
    "import re\n",
    "orpus = []\n",
    "review = pd.DataFrame()\n",
    "rmap = {s:'' for s in stopwords.words('english')}\n",
    "review['message'] = messages['message'].str.replace(r'[^a-zA-Z]', ' ', regex=True).str.lower().str.split()\n",
    "print(review.head())\n",
    "review['message'] = review['message'].apply(func=lambda arr: [wnl.lemmatize(x) for x in arr if x not in stopwords.words('english')]).apply(func=lambda arr: ' '.join(arr))\n",
    "corpus = review['message'].to_list()"
   ]
  },
  {
   "cell_type": "code",
   "execution_count": null,
   "metadata": {},
   "outputs": [],
   "source": [
    "corpus"
   ]
  },
  {
   "cell_type": "code",
   "execution_count": null,
   "metadata": {},
   "outputs": [],
   "source": [
    "from sklearn.feature_extraction.text import TfidfVectorizer\n",
    "tv = TfidfVectorizer(max_features=100, ngram_range=(2,2))\n",
    "X = tv.fit_transform(corpus).toarray()\n",
    "X\n"
   ]
  },
  {
   "cell_type": "code",
   "execution_count": null,
   "metadata": {},
   "outputs": [],
   "source": [
    "tv.vocabulary_"
   ]
  },
  {
   "cell_type": "code",
   "execution_count": null,
   "metadata": {},
   "outputs": [],
   "source": [
    "import numpy as np\n",
    "np.set_printoptions(edgeitems=30, linewidth=100000, formatter=dict(float=lambda x: '%.3g'%x))\n",
    "X"
   ]
  },
  {
   "cell_type": "markdown",
   "metadata": {},
   "source": [
    "\n",
    "\n",
    "   \n"
   ]
  },
  {
   "cell_type": "markdown",
   "metadata": {},
   "source": []
  }
 ],
 "metadata": {
  "kernelspec": {
   "display_name": "venv",
   "language": "python",
   "name": "python3"
  },
  "language_info": {
   "codemirror_mode": {
    "name": "ipython",
    "version": 3
   },
   "file_extension": ".py",
   "mimetype": "text/x-python",
   "name": "python",
   "nbconvert_exporter": "python",
   "pygments_lexer": "ipython3",
   "version": "3.10.9"
  }
 },
 "nbformat": 4,
 "nbformat_minor": 2
}
